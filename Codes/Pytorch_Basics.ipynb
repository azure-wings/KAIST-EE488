{
  "nbformat": 4,
  "nbformat_minor": 0,
  "metadata": {
    "kernelspec": {
      "display_name": "Python 3",
      "language": "python",
      "name": "python3"
    },
    "language_info": {
      "codemirror_mode": {
        "name": "ipython",
        "version": 3
      },
      "file_extension": ".py",
      "mimetype": "text/x-python",
      "name": "python",
      "nbconvert_exporter": "python",
      "pygments_lexer": "ipython3",
      "version": "3.6.9"
    },
    "colab": {
      "name": "Pytorch Basics.ipynb",
      "provenance": []
    }
  },
  "cells": [
    {
      "cell_type": "markdown",
      "metadata": {
        "id": "WyVwJh6DihSa",
        "colab_type": "text"
      },
      "source": [
        "# Basics of Pytorch"
      ]
    },
    {
      "cell_type": "markdown",
      "metadata": {
        "id": "bh5Y3h6rihSb",
        "colab_type": "text"
      },
      "source": [
        "Pytorch is one of the most used Python libraries for deep learning.  \n",
        "Pytorch will help you to accelerate the research by making them computationally faster and less expensive.  \n",
        "This material will guide you on how PyTorch works, and how you can get started with it.   \n",
        "\n"
      ]
    },
    {
      "cell_type": "markdown",
      "metadata": {
        "id": "_2HRHN06ihSc",
        "colab_type": "text"
      },
      "source": [
        "## Tables of Content\n",
        "1.  Getting Started with Pytorch\n",
        "    + Installation of Pytorch\n",
        "    + What is Pytorch?\n",
        "2. Basics of Pytorch\n",
        "    + Instruction to Tensors\n",
        "    + Operations on Tensors\n",
        "3. Autograd : Automatic Differentiaton\n",
        "    + Record grad_fn on Tensors\n",
        "    + Calcuate Gradient through Backward\n",
        "4. Reference"
      ]
    },
    {
      "cell_type": "markdown",
      "metadata": {
        "id": "YR28EmXTihSd",
        "colab_type": "text"
      },
      "source": [
        "### Getting Started with Pytorch\n",
        "#### Installation of Pytorch\n",
        "Visit https://pytorch.org/get-started/locally/ to select your preferences and run the install command  \n",
        "To install the PyTorch binaries, you will need to use at least one of two supported package managers: **Anaconda** and **pip**  \n",
        "PyTorch on Windows only supports **Python 3.x**(Python 2.x is not supported)  "
      ]
    },
    {
      "cell_type": "markdown",
      "metadata": {
        "id": "SrBWDjUKihSd",
        "colab_type": "text"
      },
      "source": [
        "#### What is Pytorch?\n",
        "Pytorch is a **Python-based scientific computing package** that features several advantages:\n",
        "+ A replacement for NumPy to use the power of GPUs\n",
        "+ a deep learning research platform that provides maximum flexibility and speed  \n",
        "+ Provides distributed training which makes it possible to use multiple GPUs. <br/> Distributed training enables to process larger batches of input data, reducing the computation time.\n",
        "+ It creates dynamic computation graphs meaning that the graph will be created on the fly\n",
        "+ Simple Interface: It offers easy to use API, thus it is very simple to operate and run like Python."
      ]
    },
    {
      "cell_type": "markdown",
      "metadata": {
        "id": "LI16kXUPihSe",
        "colab_type": "text"
      },
      "source": [
        "## Basics of Pytorch\n",
        "### Instroduction to Tensors\n",
        "Tensors are multidimensional arrays.   \n",
        "Tensors are similar to NumPy’s ndarrays, but it can also be used on a GPU to accelerate computing.(this is not the case with NumPy arrays)  \n",
        "See how we can create a Tensor in Pytorch and compares it Ndarray from Numpy:\n"
      ]
    },
    {
      "cell_type": "code",
      "metadata": {
        "id": "ynATV1-eihSf",
        "colab_type": "code",
        "colab": {},
        "outputId": "28092866-70f5-45c5-c20a-299b608696de"
      },
      "source": [
        "import numpy as np\n",
        "import torch\n",
        "\n",
        "a = np.array(1) # initializing a numpy array\n",
        "b = torch.tensor(1) # initializing a tensor\n",
        "\n",
        "print(a, type(a))\n",
        "print(b, type(b))"
      ],
      "execution_count": null,
      "outputs": [
        {
          "output_type": "stream",
          "text": [
            "1 <class 'numpy.ndarray'>\n",
            "tensor(1) <class 'torch.Tensor'>\n"
          ],
          "name": "stdout"
        }
      ]
    },
    {
      "cell_type": "markdown",
      "metadata": {
        "id": "YCMSCmSxihSj",
        "colab_type": "text"
      },
      "source": [
        "Numpy ndarray is easily convertible to Pytorch tensor, and vice versa"
      ]
    },
    {
      "cell_type": "code",
      "metadata": {
        "id": "JkD2v3ZiihSk",
        "colab_type": "code",
        "colab": {},
        "outputId": "fe5461df-a3f2-48e0-aec1-d6d8584eb6f6"
      },
      "source": [
        "a = np.array(1)\n",
        "a_tensor = torch.from_numpy(a)\n",
        "b = torch.tensor(1)\n",
        "b_ndarray = b.numpy()\n",
        "print(type(a_tensor), type(b_ndarray))"
      ],
      "execution_count": null,
      "outputs": [
        {
          "output_type": "stream",
          "text": [
            "<class 'torch.Tensor'> <class 'numpy.ndarray'>\n"
          ],
          "name": "stdout"
        }
      ]
    },
    {
      "cell_type": "markdown",
      "metadata": {
        "id": "U8EUJunmihSm",
        "colab_type": "text"
      },
      "source": [
        "Construct a 5x3 matrix, uninitialized:"
      ]
    },
    {
      "cell_type": "code",
      "metadata": {
        "id": "LbYgXFnhihSn",
        "colab_type": "code",
        "colab": {},
        "outputId": "145d5b7f-edf3-494d-9dda-0fe2bb3a5a11"
      },
      "source": [
        "x = torch.empty(5, 3)\n",
        "print(x)"
      ],
      "execution_count": null,
      "outputs": [
        {
          "output_type": "stream",
          "text": [
            "tensor([[1.0286e-38, 1.0194e-38, 9.6429e-39],\n",
            "        [9.2755e-39, 9.1837e-39, 9.3674e-39],\n",
            "        [1.0745e-38, 1.0653e-38, 9.5510e-39],\n",
            "        [1.0561e-38, 1.0194e-38, 1.1112e-38],\n",
            "        [1.0561e-38, 9.9184e-39, 1.0653e-38]])\n"
          ],
          "name": "stdout"
        }
      ]
    },
    {
      "cell_type": "markdown",
      "metadata": {
        "id": "K5yKRMZwihSp",
        "colab_type": "text"
      },
      "source": [
        "Construct a 5x3 matrix, uninitialized:"
      ]
    },
    {
      "cell_type": "code",
      "metadata": {
        "id": "JjlGHl53ihSq",
        "colab_type": "code",
        "colab": {},
        "outputId": "46ae7cc2-065f-4ba4-f909-65c37232a06a"
      },
      "source": [
        "x = torch.rand(5, 3)\n",
        "print(x)"
      ],
      "execution_count": null,
      "outputs": [
        {
          "output_type": "stream",
          "text": [
            "tensor([[0.3259, 0.2677, 0.6262],\n",
            "        [0.8661, 0.9747, 0.7917],\n",
            "        [0.6942, 0.3614, 0.7542],\n",
            "        [0.0391, 0.5435, 0.1833],\n",
            "        [0.1373, 0.3018, 0.1778]])\n"
          ],
          "name": "stdout"
        }
      ]
    },
    {
      "cell_type": "markdown",
      "metadata": {
        "id": "cu4U71zIihSt",
        "colab_type": "text"
      },
      "source": [
        "Construct a matrix filled zeros and of dtype long:"
      ]
    },
    {
      "cell_type": "code",
      "metadata": {
        "id": "WQAbsLFNihSt",
        "colab_type": "code",
        "colab": {},
        "outputId": "50bef0a7-04c0-4906-a97a-2dcbbde9b234"
      },
      "source": [
        "x = torch.zeros(5, 3, dtype=torch.long)\n",
        "print(x)"
      ],
      "execution_count": null,
      "outputs": [
        {
          "output_type": "stream",
          "text": [
            "tensor([[0, 0, 0],\n",
            "        [0, 0, 0],\n",
            "        [0, 0, 0],\n",
            "        [0, 0, 0],\n",
            "        [0, 0, 0]])\n"
          ],
          "name": "stdout"
        }
      ]
    },
    {
      "cell_type": "markdown",
      "metadata": {
        "id": "ZvpzA__BihSw",
        "colab_type": "text"
      },
      "source": [
        "Construct a tensor directly from data:"
      ]
    },
    {
      "cell_type": "code",
      "metadata": {
        "id": "cDGqIvESihSx",
        "colab_type": "code",
        "colab": {},
        "outputId": "4b732ad1-3945-4a47-9a1e-abcd89727b2a"
      },
      "source": [
        "x = torch.tensor([5.5, 3])\n",
        "print(x)"
      ],
      "execution_count": null,
      "outputs": [
        {
          "output_type": "stream",
          "text": [
            "tensor([5.5000, 3.0000])\n"
          ],
          "name": "stdout"
        }
      ]
    },
    {
      "cell_type": "markdown",
      "metadata": {
        "id": "RBRuF6NEihSz",
        "colab_type": "text"
      },
      "source": [
        "Create a tensor based on an existing tensor.  \n",
        "These methods will reuse properties of the input tensor, e.g. dtype, unless new values are provided by user"
      ]
    },
    {
      "cell_type": "code",
      "metadata": {
        "id": "nvrcOywRihS0",
        "colab_type": "code",
        "colab": {},
        "outputId": "0841c8dd-4f50-4681-ce10-b4fa3045f891"
      },
      "source": [
        "x = x.new_ones(5, 3, dtype=torch.double)      # new_* methods take in sizes\n",
        "print(x)\n",
        "\n",
        "x = torch.randn_like(x, dtype=torch.float)    # override dtype!\n",
        "print(x)                                      # result has the same size"
      ],
      "execution_count": null,
      "outputs": [
        {
          "output_type": "stream",
          "text": [
            "tensor([[1., 1., 1.],\n",
            "        [1., 1., 1.],\n",
            "        [1., 1., 1.],\n",
            "        [1., 1., 1.],\n",
            "        [1., 1., 1.]], dtype=torch.float64)\n",
            "tensor([[-0.8990,  0.1204,  0.0139],\n",
            "        [-0.0826, -0.9899, -1.4254],\n",
            "        [-0.5144, -1.0925, -1.4376],\n",
            "        [ 2.0616, -0.6864,  0.2773],\n",
            "        [-2.0332, -0.6625,  0.8781]])\n"
          ],
          "name": "stdout"
        }
      ]
    },
    {
      "cell_type": "markdown",
      "metadata": {
        "id": "MQQnCPDFihS2",
        "colab_type": "text"
      },
      "source": [
        "Get its size:"
      ]
    },
    {
      "cell_type": "code",
      "metadata": {
        "id": "CBS_X0vEihS3",
        "colab_type": "code",
        "colab": {},
        "outputId": "884ced48-893e-4930-f2fb-ea1290e6a3e6"
      },
      "source": [
        "print(x.size())"
      ],
      "execution_count": null,
      "outputs": [
        {
          "output_type": "stream",
          "text": [
            "torch.Size([5, 3])\n"
          ],
          "name": "stdout"
        }
      ]
    },
    {
      "cell_type": "markdown",
      "metadata": {
        "id": "FFy9zaNqihS5",
        "colab_type": "text"
      },
      "source": [
        "### Operations on Tensors"
      ]
    },
    {
      "cell_type": "markdown",
      "metadata": {
        "id": "I-iyR_yqihS5",
        "colab_type": "text"
      },
      "source": [
        "There are multiple syntaxes for operations. In the following example, we will take a look at the addition operation.  \n",
        "**Addition: syntax 1**"
      ]
    },
    {
      "cell_type": "code",
      "metadata": {
        "id": "cRWvnguzihS6",
        "colab_type": "code",
        "colab": {},
        "outputId": "c750f4f6-5492-499b-c319-98d3bd17299a"
      },
      "source": [
        "y = torch.rand(5, 3)\n",
        "print(x + y)"
      ],
      "execution_count": null,
      "outputs": [
        {
          "output_type": "stream",
          "text": [
            "tensor([[-0.1347,  0.7163,  0.5559],\n",
            "        [ 0.5222, -0.6483, -0.9859],\n",
            "        [-0.1845, -0.9577, -1.1934],\n",
            "        [ 2.9317,  0.2723,  0.3253],\n",
            "        [-1.4904, -0.0581,  1.3205]])\n"
          ],
          "name": "stdout"
        }
      ]
    },
    {
      "cell_type": "markdown",
      "metadata": {
        "id": "BlBxRArmihS9",
        "colab_type": "text"
      },
      "source": [
        "**Addition: syntax 2**"
      ]
    },
    {
      "cell_type": "code",
      "metadata": {
        "id": "CJ3OmZ-MihS9",
        "colab_type": "code",
        "colab": {},
        "outputId": "570a7971-66d1-4405-b6a9-60d1114d26a8"
      },
      "source": [
        "print(torch.add(x, y))"
      ],
      "execution_count": null,
      "outputs": [
        {
          "output_type": "stream",
          "text": [
            "tensor([[-0.1347,  0.7163,  0.5559],\n",
            "        [ 0.5222, -0.6483, -0.9859],\n",
            "        [-0.1845, -0.9577, -1.1934],\n",
            "        [ 2.9317,  0.2723,  0.3253],\n",
            "        [-1.4904, -0.0581,  1.3205]])\n"
          ],
          "name": "stdout"
        }
      ]
    },
    {
      "cell_type": "markdown",
      "metadata": {
        "id": "RE7BFhgLihTA",
        "colab_type": "text"
      },
      "source": [
        "See how basic operations are performed on tensor in Pytorch"
      ]
    },
    {
      "cell_type": "code",
      "metadata": {
        "id": "C9qXN3FkihTA",
        "colab_type": "code",
        "colab": {},
        "outputId": "5fe582c7-422f-4495-e166-64085f180942"
      },
      "source": [
        "a = torch.randn(3,3)\n",
        "b = torch.randn(3,3)\n",
        "# matrix addition\n",
        "print(torch.add(a,b), '\\n')\n",
        "\n",
        "# matrix subtraction\n",
        "print(torch.sub(a,b), '\\n')\n",
        "\n",
        "# matrix multiplication\n",
        "print(torch.mm(a,b), '\\n')\n",
        "\n",
        "# matrix division\n",
        "print(torch.div(a,b))"
      ],
      "execution_count": null,
      "outputs": [
        {
          "output_type": "stream",
          "text": [
            "tensor([[-0.4026, -0.0567,  2.0486],\n",
            "        [ 1.6303, -0.3304,  1.2894],\n",
            "        [ 0.0702, -1.5686, -1.4387]]) \n",
            "\n",
            "tensor([[-1.2144, -1.9134,  1.1881],\n",
            "        [ 0.6202,  1.1901,  1.6174],\n",
            "        [-1.8409, -1.1924, -1.6784]]) \n",
            "\n",
            "tensor([[ 0.7208, -0.3061,  0.0077],\n",
            "        [ 2.0626,  0.4444,  0.5878],\n",
            "        [-2.5459,  0.5209, -0.3412]]) \n",
            "\n",
            "tensor([[ -1.9920,  -1.0611,   3.7613],\n",
            "        [  2.2281,  -0.5654,  -8.8598],\n",
            "        [ -0.9265,   7.3388, -13.0052]])\n"
          ],
          "name": "stdout"
        }
      ]
    },
    {
      "cell_type": "markdown",
      "metadata": {
        "id": "CjU2eDqtihTD",
        "colab_type": "text"
      },
      "source": [
        " **Calculating transpose** is also similar to NumPy:"
      ]
    },
    {
      "cell_type": "code",
      "metadata": {
        "id": "k_gvDw3uihTD",
        "colab_type": "code",
        "colab": {},
        "outputId": "c1cd115f-f67e-4c18-8011-f9ae6965921f"
      },
      "source": [
        "# original matrix\n",
        "print(a, '\\n')\n",
        "\n",
        "# matrix transpose\n",
        "torch.t(a)"
      ],
      "execution_count": null,
      "outputs": [
        {
          "output_type": "stream",
          "text": [
            "tensor([[-0.8085, -0.9851,  1.6184],\n",
            "        [ 1.1252,  0.4299,  1.4534],\n",
            "        [-0.8853, -1.3805, -1.5586]]) \n",
            "\n"
          ],
          "name": "stdout"
        },
        {
          "output_type": "execute_result",
          "data": {
            "text/plain": [
              "tensor([[-0.8085,  1.1252, -0.8853],\n",
              "        [-0.9851,  0.4299, -1.3805],\n",
              "        [ 1.6184,  1.4534, -1.5586]])"
            ]
          },
          "metadata": {
            "tags": []
          },
          "execution_count": 14
        }
      ]
    },
    {
      "cell_type": "markdown",
      "metadata": {
        "id": "tnvBuZqVihTG",
        "colab_type": "text"
      },
      "source": [
        "**Concatenating Tensors**  \n",
        "Let’s say we have two tensors as shown below:"
      ]
    },
    {
      "cell_type": "code",
      "metadata": {
        "id": "1sr-a5VCihTG",
        "colab_type": "code",
        "colab": {},
        "outputId": "6fa10aeb-fb86-4922-ab5e-3390adba0de1"
      },
      "source": [
        "a = torch.tensor([[1,2],[3,4]])\n",
        "b = torch.tensor([[5,6],[7,8]])\n",
        "print(a, '\\n')\n",
        "print(b)\n",
        "c0 = torch.cat((a,b),dim=0) # concate tensors at dimension 0\n",
        "print(c0.shape)\n",
        "c1 = torch.cat((a,b),dim=1) # concate tensors at dimension 1\n",
        "print(c1.shape)"
      ],
      "execution_count": null,
      "outputs": [
        {
          "output_type": "stream",
          "text": [
            "tensor([[1, 2],\n",
            "        [3, 4]]) \n",
            "\n",
            "tensor([[5, 6],\n",
            "        [7, 8]])\n",
            "torch.Size([4, 2])\n",
            "torch.Size([2, 4])\n"
          ],
          "name": "stdout"
        }
      ]
    },
    {
      "cell_type": "markdown",
      "metadata": {
        "id": "bH3KGrOPihTI",
        "colab_type": "text"
      },
      "source": [
        "**Reshaping Tensors**  \n",
        "Let’s say we have the following tensor:"
      ]
    },
    {
      "cell_type": "code",
      "metadata": {
        "id": "yWaBZuigihTJ",
        "colab_type": "code",
        "colab": {},
        "outputId": "104b73bc-cf21-42b8-bfe5-197d89b2df84"
      },
      "source": [
        "a = torch.randn(2,4)\n",
        "print(a)\n",
        "a.shape"
      ],
      "execution_count": null,
      "outputs": [
        {
          "output_type": "stream",
          "text": [
            "tensor([[-1.0335, -1.3989, -1.1457, -1.0985],\n",
            "        [-1.8597,  0.8996,  0.6662, -0.0429]])\n"
          ],
          "name": "stdout"
        },
        {
          "output_type": "execute_result",
          "data": {
            "text/plain": [
              "torch.Size([2, 4])"
            ]
          },
          "metadata": {
            "tags": []
          },
          "execution_count": 16
        }
      ]
    },
    {
      "cell_type": "markdown",
      "metadata": {
        "id": "rh-7jc7FihTM",
        "colab_type": "text"
      },
      "source": [
        "You can use either of two functions : **torch.view()** and **torch.reshape()**  \n",
        "**torch.view()** returns tensor which share the underling data with the original tensor  \n",
        "On the other hand, **torch.reshape()** may return a copy or a view of the original tensor."
      ]
    },
    {
      "cell_type": "code",
      "metadata": {
        "id": "5ro9a81tihTM",
        "colab_type": "code",
        "colab": {},
        "outputId": "ec78e36f-d6de-4cdb-b1fc-c7bc62d7b518"
      },
      "source": [
        "b = a.reshape(1,8)\n",
        "c = a.view(1,8)\n",
        "print(b.shape)\n",
        "print(c.shape)"
      ],
      "execution_count": null,
      "outputs": [
        {
          "output_type": "stream",
          "text": [
            "torch.Size([1, 8])\n",
            "torch.Size([1, 8])\n"
          ],
          "name": "stdout"
        }
      ]
    },
    {
      "cell_type": "markdown",
      "metadata": {
        "id": "_TI8bChnihTO",
        "colab_type": "text"
      },
      "source": [
        "**Indexing**  \n",
        "You can use standard NumPy-like indexing"
      ]
    },
    {
      "cell_type": "code",
      "metadata": {
        "id": "R9fjlyUXihTO",
        "colab_type": "code",
        "colab": {},
        "outputId": "1f2e40e4-a0cf-4d31-a918-cd1079f875e9"
      },
      "source": [
        "a = torch.randn(2,4)\n",
        "print(a[:,:2].shape)"
      ],
      "execution_count": null,
      "outputs": [
        {
          "output_type": "stream",
          "text": [
            "torch.Size([2, 2])\n"
          ],
          "name": "stdout"
        }
      ]
    },
    {
      "cell_type": "markdown",
      "metadata": {
        "id": "XgPLFcH9ihTR",
        "colab_type": "text"
      },
      "source": [
        "If you have a one element tensor, use .item() to get the scalar value."
      ]
    },
    {
      "cell_type": "code",
      "metadata": {
        "id": "HFwG-EiJihTR",
        "colab_type": "code",
        "colab": {},
        "outputId": "13b4b799-e3ce-43a7-bc4a-51dfbb9b7ed8"
      },
      "source": [
        "x = torch.randn(1)\n",
        "print(x)\n",
        "print(x.item())"
      ],
      "execution_count": null,
      "outputs": [
        {
          "output_type": "stream",
          "text": [
            "tensor([-1.0103])\n",
            "-1.0102500915527344\n"
          ],
          "name": "stdout"
        }
      ]
    },
    {
      "cell_type": "markdown",
      "metadata": {
        "id": "BtKehRCeihTT",
        "colab_type": "text"
      },
      "source": [
        "**CUDA Tensors**  \n",
        "Tensors can be moved onto any device using the .to method."
      ]
    },
    {
      "cell_type": "code",
      "metadata": {
        "id": "Wh54GmFSihTT",
        "colab_type": "code",
        "colab": {}
      },
      "source": [
        "# let us run this cell only if CUDA is available\n",
        "# We will use ``torch.device`` objects to move tensors in and out of GPU\n",
        "if torch.cuda.is_available():\n",
        "    device = torch.device(\"cuda:0\")          # a CUDA device object (to GPU No.0)\n",
        "    y = torch.ones_like(x, device=device)  # directly create a tensor on GPU\n",
        "    x = x.to(device)                       # or just use strings ``.to(\"cuda\")``\n",
        "    z = x + y\n",
        "    print(z)\n",
        "    print(z.to(\"cpu\", torch.double))       # ``.to`` can also change dtype together!"
      ],
      "execution_count": null,
      "outputs": []
    },
    {
      "cell_type": "markdown",
      "metadata": {
        "id": "h1EbTxrmihTV",
        "colab_type": "text"
      },
      "source": [
        "## Autograd : Automatic Differentiaion"
      ]
    },
    {
      "cell_type": "markdown",
      "metadata": {
        "id": "gsmGpv9EihTW",
        "colab_type": "text"
      },
      "source": [
        "\n",
        "Remember in your calculas class when you learn about gradient and differentation?  \n",
        "In machine learning, it is necessary to compute the gradients of loss function in neural networks.  \n",
        "However, it is inefficient to compute gradients of large composite function in very high dimensional spaces.  \n",
        "Fortunately, PyTorch provides a technique called automatic differentiation.   \n",
        "Pytorch records all the operations enabling it to compute gradients backward.  \n",
        "This technique will help you to save time on each epoch \n",
        "\n",
        "Let’s look at an example to understand how the autograd works!"
      ]
    },
    {
      "cell_type": "markdown",
      "metadata": {
        "id": "YleJJhlxihTW",
        "colab_type": "text"
      },
      "source": [
        "### Tensors with Gradients\n",
        "Once you create tensors specifing the option **requires_grad** as **True**,  \n",
        "gradients are stored for this particular tensor whenever you perform some operations  \n",
        "When you finish your computation you can call .backward() and have all the gradients computed automatically.  \n",
        "The gradient for this tensor will be accumulated into .grad attribute."
      ]
    },
    {
      "cell_type": "code",
      "metadata": {
        "id": "05DtXkz-ihTX",
        "colab_type": "code",
        "colab": {},
        "outputId": "b18c1cce-3f15-4871-c315-b73f132f005e"
      },
      "source": [
        "# Create a tensor and set requires_grad=True to track computation with it\n",
        "x = torch.ones(2, 2, requires_grad=True)\n",
        "print(x)"
      ],
      "execution_count": null,
      "outputs": [
        {
          "output_type": "stream",
          "text": [
            "tensor([[1., 1.],\n",
            "        [1., 1.]], requires_grad=True)\n"
          ],
          "name": "stdout"
        }
      ]
    },
    {
      "cell_type": "markdown",
      "metadata": {
        "id": "_NFSDBceihTZ",
        "colab_type": "text"
      },
      "source": [
        "Let’s now perform some operations on the defined tensor  \n",
        "Each tensor has a .grad_fn attribute that references a Function that has created the Tensor  \n",
        "(except for Tensors created by the user - their grad_fn is None).\n",
        "\n"
      ]
    },
    {
      "cell_type": "code",
      "metadata": {
        "id": "o_ouutT_ihTZ",
        "colab_type": "code",
        "colab": {},
        "outputId": "6ea475e9-7988-4e3a-d358-ee347fa61b5a"
      },
      "source": [
        "y = x + 2\n",
        "print(y)\n",
        "print(y.grad_fn)"
      ],
      "execution_count": null,
      "outputs": [
        {
          "output_type": "stream",
          "text": [
            "tensor([[3., 3.],\n",
            "        [3., 3.]], grad_fn=<AddBackward0>)\n",
            "<AddBackward0 object at 0x00000139926E2198>\n"
          ],
          "name": "stdout"
        }
      ]
    },
    {
      "cell_type": "markdown",
      "metadata": {
        "id": "ZJKVfn_XihTc",
        "colab_type": "text"
      },
      "source": [
        "Do more operations on y"
      ]
    },
    {
      "cell_type": "code",
      "metadata": {
        "id": "n0NOFezeihTc",
        "colab_type": "code",
        "colab": {},
        "outputId": "9518400c-5117-4308-f32b-3b8c2cd2e356"
      },
      "source": [
        "z = y * y * 3\n",
        "out = z.mean()\n",
        "\n",
        "print(z, out)"
      ],
      "execution_count": null,
      "outputs": [
        {
          "output_type": "stream",
          "text": [
            "tensor([[27., 27.],\n",
            "        [27., 27.]], grad_fn=<MulBackward0>) tensor(27., grad_fn=<MeanBackward0>)\n"
          ],
          "name": "stdout"
        }
      ]
    },
    {
      "cell_type": "markdown",
      "metadata": {
        "id": "nH5pMhrNihTe",
        "colab_type": "text"
      },
      "source": [
        ".requires_grad_( ... ) changes an existing Tensor’s requires_grad flag in-place.  \n",
        "The input flag defaults to False if not given"
      ]
    },
    {
      "cell_type": "code",
      "metadata": {
        "id": "gW0ucMpoihTe",
        "colab_type": "code",
        "colab": {},
        "outputId": "f23b8665-335f-49e3-a636-85d3790bfbc0"
      },
      "source": [
        "a = torch.randn(2, 2)\n",
        "a = ((a * 3) / (a - 1))\n",
        "print(a.requires_grad)\n",
        "a.requires_grad_(True)\n",
        "print(a.requires_grad)\n",
        "b = (a * a).sum()\n",
        "print(b.grad_fn)"
      ],
      "execution_count": null,
      "outputs": [
        {
          "output_type": "stream",
          "text": [
            "False\n",
            "True\n",
            "<SumBackward0 object at 0x000001398FB03C88>\n"
          ],
          "name": "stdout"
        }
      ]
    },
    {
      "cell_type": "markdown",
      "metadata": {
        "id": "PxMfaGJoihTg",
        "colab_type": "text"
      },
      "source": [
        "### Calcuate Gradient through Backward\n",
        "\n",
        "If you want to compute the derivatives, you can call **.backward()** on a Tensor.  \n",
        "Once you call **.backward()**, its gradient is sotred in the attribute **.grad**  \n",
        "If Tensor is a scalar (i.e. it holds a one element data), you don’t need to specify any arguments to backward()  \n",
        "However, if it has more elements, you need to specify a gradient argument that is a tensor of matching shape."
      ]
    },
    {
      "cell_type": "code",
      "metadata": {
        "id": "LjPpWN0nihTh",
        "colab_type": "code",
        "colab": {},
        "outputId": "d1d53a8b-2126-43a0-e4c7-0494aa1b467a"
      },
      "source": [
        "a = torch.ones((2,2), requires_grad=True) # initializing a tensor\n",
        "b = a + 5 # performing operations on the tensor\n",
        "c = b.mean()\n",
        "\n",
        "# back propagating\n",
        "c.backward()\n",
        "# check computed gradients\n",
        "print(a.grad)"
      ],
      "execution_count": null,
      "outputs": [
        {
          "output_type": "stream",
          "text": [
            "tensor([[0.2500, 0.2500],\n",
            "        [0.2500, 0.2500]])\n"
          ],
          "name": "stdout"
        }
      ]
    },
    {
      "cell_type": "markdown",
      "metadata": {
        "id": "1Th0ZgyuihTj",
        "colab_type": "text"
      },
      "source": [
        "You can also stop autograd from tracking history on Tensors with **.requires_grad=False**\n",
        "either by wrapping the code block in with torch.no_grad():"
      ]
    },
    {
      "cell_type": "code",
      "metadata": {
        "id": "u0IXFQaXihTj",
        "colab_type": "code",
        "colab": {},
        "outputId": "30d736c8-bb2b-4abb-c823-12e73b72d658"
      },
      "source": [
        "print(a.requires_grad)\n",
        "print((a ** 2).requires_grad)\n",
        "\n",
        "with torch.no_grad():\n",
        "    print((a ** 2).requires_grad)"
      ],
      "execution_count": null,
      "outputs": [
        {
          "output_type": "stream",
          "text": [
            "True\n",
            "True\n",
            "False\n"
          ],
          "name": "stdout"
        }
      ]
    },
    {
      "cell_type": "markdown",
      "metadata": {
        "id": "LPo7wUrcihTl",
        "colab_type": "text"
      },
      "source": [
        "To prevent tracking history, (maybe for memory issue)  \n",
        "you can use **.detach()** to get a new Tensor with the same content but that does not require gradients.  \n",
        "Note that **.clone()** functon also returns a copy but that does trackes the gradients."
      ]
    },
    {
      "cell_type": "code",
      "metadata": {
        "id": "xWhKFLK5ihTm",
        "colab_type": "code",
        "colab": {},
        "outputId": "2376e1c4-80e8-4268-b747-09b544ec57be"
      },
      "source": [
        "print(a.requires_grad)\n",
        "b = a.detach()\n",
        "c = a.clone()\n",
        "print(b.requires_grad)\n",
        "print(c.requires_grad)\n",
        "print((a==b).all())\n",
        "print((a==c).all())"
      ],
      "execution_count": null,
      "outputs": [
        {
          "output_type": "stream",
          "text": [
            "True\n",
            "False\n",
            "True\n",
            "tensor(True)\n",
            "tensor(True)\n"
          ],
          "name": "stdout"
        }
      ]
    },
    {
      "cell_type": "markdown",
      "metadata": {
        "id": "Bv3YeYHxihTo",
        "colab_type": "text"
      },
      "source": [
        "### Reference\n",
        "\n",
        "[What is PyTorch?] https://pytorch.org/tutorials/beginner/blitz/tensor_tutorial.html#sphx-glr-beginner-blitz-tensor-tutorial-py  \n",
        "[AUTOGRAD: AUTOMATIC DIFFERENTIATION] https://pytorch.org/tutorials/beginner/blitz/autograd_tutorial.html#sphx-glr-beginner-blitz-autograd-tutorial-py  \n",
        "[A Beginner-Friendly Guide to PyTorch and How it Works from Scratch] https://www.analyticsvidhya.com/blog/2019/09/introduction-to-pytorch-from-scratch/  \n",
        "[What is PyTorch and how does it work?] https://hub.packtpub.com/what-is-pytorch-and-how-does-it-work/"
      ]
    }
  ]
}